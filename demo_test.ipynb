{
  "nbformat": 4,
  "nbformat_minor": 0,
  "metadata": {
    "colab": {
      "provenance": [],
      "gpuType": "T4"
    },
    "kernelspec": {
      "name": "python3",
      "display_name": "Python 3"
    },
    "language_info": {
      "name": "python"
    },
    "accelerator": "GPU"
  },
  "cells": [
    {
      "cell_type": "code",
      "execution_count": 1,
      "metadata": {
        "colab": {
          "base_uri": "https://localhost:8080/"
        },
        "collapsed": true,
        "id": "A_tO0FFLf17G",
        "outputId": "c1559688-6226-482f-94e4-63cff23be0ed"
      },
      "outputs": [
        {
          "output_type": "stream",
          "name": "stdout",
          "text": [
            "Cloning into 'Eco2AI'...\n",
            "remote: Enumerating objects: 84, done.\u001b[K\n",
            "remote: Counting objects: 100% (84/84), done.\u001b[K\n",
            "remote: Compressing objects: 100% (66/66), done.\u001b[K\n",
            "remote: Total 84 (delta 25), reused 64 (delta 13), pack-reused 0 (from 0)\u001b[K\n",
            "Receiving objects: 100% (84/84), 137.29 KiB | 1.21 MiB/s, done.\n",
            "Resolving deltas: 100% (25/25), done.\n"
          ]
        }
      ],
      "source": [
        "!git clone https://github.com/YinuoYang327/Eco2AI.git"
      ]
    },
    {
      "cell_type": "code",
      "source": [
        "%cd Eco2AI"
      ],
      "metadata": {
        "colab": {
          "base_uri": "https://localhost:8080/"
        },
        "id": "cjqmih7Af5Bj",
        "outputId": "b9c86e1c-ab9f-4b4c-fe7c-b79a5258f246"
      },
      "execution_count": 2,
      "outputs": [
        {
          "output_type": "stream",
          "name": "stdout",
          "text": [
            "/content/Eco2AI\n"
          ]
        }
      ]
    },
    {
      "cell_type": "code",
      "source": [
        "!pip install -e ."
      ],
      "metadata": {
        "colab": {
          "base_uri": "https://localhost:8080/"
        },
        "collapsed": true,
        "id": "4phwcCiagB6R",
        "outputId": "f37a8ed8-574d-4573-b624-50b9d1e61077"
      },
      "execution_count": 3,
      "outputs": [
        {
          "output_type": "stream",
          "name": "stdout",
          "text": [
            "Obtaining file:///content/Eco2AI\n",
            "  Preparing metadata (setup.py) ... \u001b[?25l\u001b[?25hdone\n",
            "Collecting APScheduler (from eco2ai==0.3.13)\n",
            "  Downloading APScheduler-3.11.0-py3-none-any.whl.metadata (6.4 kB)\n",
            "Requirement already satisfied: pynvml>=5.6.2 in /usr/local/lib/python3.12/dist-packages (from eco2ai==0.3.13) (12.0.0)\n",
            "Requirement already satisfied: psutil in /usr/local/lib/python3.12/dist-packages (from eco2ai==0.3.13) (5.9.5)\n",
            "Requirement already satisfied: py-cpuinfo in /usr/local/lib/python3.12/dist-packages (from eco2ai==0.3.13) (9.0.0)\n",
            "Requirement already satisfied: numpy in /usr/local/lib/python3.12/dist-packages (from eco2ai==0.3.13) (2.0.2)\n",
            "Requirement already satisfied: pandas in /usr/local/lib/python3.12/dist-packages (from eco2ai==0.3.13) (2.2.2)\n",
            "Requirement already satisfied: tzlocal in /usr/local/lib/python3.12/dist-packages (from eco2ai==0.3.13) (5.3.1)\n",
            "Requirement already satisfied: requests in /usr/local/lib/python3.12/dist-packages (from eco2ai==0.3.13) (2.32.4)\n",
            "Requirement already satisfied: setuptools>=45.0.0 in /usr/local/lib/python3.12/dist-packages (from eco2ai==0.3.13) (75.2.0)\n",
            "Requirement already satisfied: nvidia-ml-py<13.0.0a0,>=12.0.0 in /usr/local/lib/python3.12/dist-packages (from pynvml>=5.6.2->eco2ai==0.3.13) (12.575.51)\n",
            "Requirement already satisfied: python-dateutil>=2.8.2 in /usr/local/lib/python3.12/dist-packages (from pandas->eco2ai==0.3.13) (2.9.0.post0)\n",
            "Requirement already satisfied: pytz>=2020.1 in /usr/local/lib/python3.12/dist-packages (from pandas->eco2ai==0.3.13) (2025.2)\n",
            "Requirement already satisfied: tzdata>=2022.7 in /usr/local/lib/python3.12/dist-packages (from pandas->eco2ai==0.3.13) (2025.2)\n",
            "Requirement already satisfied: charset_normalizer<4,>=2 in /usr/local/lib/python3.12/dist-packages (from requests->eco2ai==0.3.13) (3.4.4)\n",
            "Requirement already satisfied: idna<4,>=2.5 in /usr/local/lib/python3.12/dist-packages (from requests->eco2ai==0.3.13) (3.11)\n",
            "Requirement already satisfied: urllib3<3,>=1.21.1 in /usr/local/lib/python3.12/dist-packages (from requests->eco2ai==0.3.13) (2.5.0)\n",
            "Requirement already satisfied: certifi>=2017.4.17 in /usr/local/lib/python3.12/dist-packages (from requests->eco2ai==0.3.13) (2025.10.5)\n",
            "Requirement already satisfied: six>=1.5 in /usr/local/lib/python3.12/dist-packages (from python-dateutil>=2.8.2->pandas->eco2ai==0.3.13) (1.17.0)\n",
            "Downloading APScheduler-3.11.0-py3-none-any.whl (64 kB)\n",
            "\u001b[2K   \u001b[90m━━━━━━━━━━━━━━━━━━━━━━━━━━━━━━━━━━━━━━━━\u001b[0m \u001b[32m64.0/64.0 kB\u001b[0m \u001b[31m3.7 MB/s\u001b[0m eta \u001b[36m0:00:00\u001b[0m\n",
            "\u001b[?25hInstalling collected packages: APScheduler, eco2ai\n",
            "  Running setup.py develop for eco2ai\n",
            "Successfully installed APScheduler-3.11.0 eco2ai-0.3.13\n"
          ]
        }
      ]
    },
    {
      "cell_type": "code",
      "source": [
        "!pytest -v tests/"
      ],
      "metadata": {
        "colab": {
          "base_uri": "https://localhost:8080/"
        },
        "collapsed": true,
        "id": "sKWH6x4ygDTu",
        "outputId": "144fab81-cb11-4f85-92ee-623a4d75f9e2"
      },
      "execution_count": 9,
      "outputs": [
        {
          "output_type": "stream",
          "name": "stdout",
          "text": [
            "\u001b[1m============================= test session starts ==============================\u001b[0m\n",
            "platform linux -- Python 3.12.12, pytest-8.4.2, pluggy-1.6.0 -- /usr/bin/python3\n",
            "cachedir: .pytest_cache\n",
            "rootdir: /content/Eco2AI\n",
            "configfile: pytest.ini\n",
            "plugins: cov-7.0.0, typeguard-4.4.4, langsmith-0.4.37, anyio-4.11.0\n",
            "collected 28 items                                                             \u001b[0m\n",
            "\n",
            "tests/test_import.py::test_import_eco2ai \u001b[32mPASSED\u001b[0m\u001b[32m                          [  3%]\u001b[0m\n",
            "tests/test_import.py::test_version_available \u001b[32mPASSED\u001b[0m\u001b[32m                      [  7%]\u001b[0m\n",
            "tests/test_import.py::test_tracker_importable \u001b[32mPASSED\u001b[0m\u001b[32m                     [ 10%]\u001b[0m\n",
            "tests/test_import.py::test_track_decorator_importable \u001b[32mPASSED\u001b[0m\u001b[32m             [ 14%]\u001b[0m\n",
            "tests/test_import.py::test_utils_importable \u001b[32mPASSED\u001b[0m\u001b[32m                       [ 17%]\u001b[0m\n",
            "tests/test_import.py::test_tools_importable \u001b[32mPASSED\u001b[0m\u001b[32m                       [ 21%]\u001b[0m\n",
            "tests/test_tools.py::TestCPU::test_cpu_initialization \u001b[32mPASSED\u001b[0m\u001b[32m             [ 25%]\u001b[0m\n",
            "tests/test_tools.py::TestCPU::test_cpu_name \u001b[32mPASSED\u001b[0m\u001b[32m                       [ 28%]\u001b[0m\n",
            "tests/test_tools.py::TestCPU::test_cpu_num \u001b[32mPASSED\u001b[0m\u001b[32m                        [ 32%]\u001b[0m\n",
            "tests/test_tools.py::TestCPU::test_all_available_cpu \u001b[32mPASSED\u001b[0m\u001b[32m              [ 35%]\u001b[0m\n",
            "tests/test_tools.py::TestGPU::test_gpu_initialization \u001b[32mPASSED\u001b[0m\u001b[32m             [ 39%]\u001b[0m\n",
            "tests/test_tools.py::TestGPU::test_gpu_availability \u001b[32mPASSED\u001b[0m\u001b[32m               [ 42%]\u001b[0m\n",
            "tests/test_tools.py::TestGPU::test_all_available_gpu \u001b[32mPASSED\u001b[0m\u001b[32m              [ 46%]\u001b[0m\n",
            "tests/test_tools.py::TestRAM::test_ram_initialization \u001b[32mPASSED\u001b[0m\u001b[32m             [ 50%]\u001b[0m\n",
            "tests/test_tools.py::TestRAM::test_ram_calculation \u001b[32mPASSED\u001b[0m\u001b[32m                [ 53%]\u001b[0m\n",
            "tests/test_tracker.py::TestTracker::test_tracker_initialization \u001b[32mPASSED\u001b[0m\u001b[32m   [ 57%]\u001b[0m\n",
            "tests/test_tracker.py::TestTracker::test_tracker_custom_parameters \u001b[32mPASSED\u001b[0m\u001b[32m [ 60%]\u001b[0m\n",
            "tests/test_tracker.py::TestTracker::test_tracker_start_stop \u001b[32mPASSED\u001b[0m\u001b[32m       [ 64%]\u001b[0m\n",
            "tests/test_tracker.py::TestTracker::test_tracker_consumption \u001b[32mPASSED\u001b[0m\u001b[33m      [ 67%]\u001b[0m\n",
            "tests/test_tracker.py::TestTracker::test_tracker_id_generation \u001b[32mPASSED\u001b[0m\u001b[33m    [ 71%]\u001b[0m\n",
            "tests/test_tracker.py::TestTracker::test_invalid_measure_period \u001b[32mPASSED\u001b[0m\u001b[33m   [ 75%]\u001b[0m\n",
            "tests/test_tracker.py::TestTracker::test_decorator_tracking \u001b[33mSKIPPED\u001b[0m\u001b[33m      [ 78%]\u001b[0m\n",
            "tests/test_tracker.py::TestTrackerTraining::test_start_training \u001b[32mPASSED\u001b[0m\u001b[33m   [ 82%]\u001b[0m\n",
            "tests/test_tracker.py::TestTrackerTraining::test_new_epoch \u001b[32mPASSED\u001b[0m\u001b[33m        [ 85%]\u001b[0m\n",
            "tests/test_tracker.py::TestTrackerTraining::test_invalid_start_epoch \u001b[32mPASSED\u001b[0m\u001b[33m [ 89%]\u001b[0m\n",
            "tests/test_utils.py::TestUtils::test_get_set_params \u001b[32mPASSED\u001b[0m\u001b[33m               [ 92%]\u001b[0m\n",
            "tests/test_utils.py::TestUtils::test_electricity_pricing_valid \u001b[32mPASSED\u001b[0m\u001b[33m    [ 96%]\u001b[0m\n",
            "tests/test_utils.py::TestUtils::test_electricity_pricing_none \u001b[32mPASSED\u001b[0m\u001b[33m     [100%]\u001b[0m\n",
            "\n",
            "\u001b[33m=============================== warnings summary ===============================\u001b[0m\n",
            "tests/test_tracker.py::TestTracker::test_tracker_start_stop\n",
            "tests/test_tracker.py::TestTracker::test_tracker_consumption\n",
            "tests/test_tracker.py::TestTracker::test_tracker_id_generation\n",
            "  /content/Eco2AI/eco2ai/emission_track.py:454: FutureWarning: Setting an item of incompatible dtype is deprecated and will raise an error in a future version of pandas. Value 'N/A' has dtype incompatible with float64, please explicitly cast to a compatible dtype first.\n",
            "    df.loc[row_index] = attributes_array\n",
            "\n",
            "tests/test_tracker.py::TestTracker::test_tracker_start_stop\n",
            "  /content/Eco2AI/eco2ai/emission_track.py:454: FutureWarning: Setting an item of incompatible dtype is deprecated and will raise an error in a future version of pandas. Value '2.2059805393218994' has dtype incompatible with float64, please explicitly cast to a compatible dtype first.\n",
            "    df.loc[row_index] = attributes_array\n",
            "\n",
            "tests/test_tracker.py::TestTracker::test_tracker_start_stop\n",
            "  /content/Eco2AI/eco2ai/emission_track.py:454: FutureWarning: Setting an item of incompatible dtype is deprecated and will raise an error in a future version of pandas. Value '5.957129419914302e-06' has dtype incompatible with float64, please explicitly cast to a compatible dtype first.\n",
            "    df.loc[row_index] = attributes_array\n",
            "\n",
            "tests/test_tracker.py::TestTracker::test_tracker_start_stop\n",
            "  /content/Eco2AI/eco2ai/emission_track.py:454: FutureWarning: Setting an item of incompatible dtype is deprecated and will raise an error in a future version of pandas. Value '2.347805975588365e-06' has dtype incompatible with float64, please explicitly cast to a compatible dtype first.\n",
            "    df.loc[row_index] = attributes_array\n",
            "\n",
            "tests/test_tracker.py::TestTracker::test_tracker_start_stop\n",
            "tests/test_tracker.py::TestTracker::test_tracker_consumption\n",
            "tests/test_tracker.py::TestTracker::test_tracker_id_generation\n",
            "  /content/Eco2AI/eco2ai/emission_track.py:454: FutureWarning: Setting an item of incompatible dtype is deprecated and will raise an error in a future version of pandas. Value '0' has dtype incompatible with int64, please explicitly cast to a compatible dtype first.\n",
            "    df.loc[row_index] = attributes_array\n",
            "\n",
            "tests/test_tracker.py::TestTracker::test_tracker_consumption\n",
            "  /content/Eco2AI/eco2ai/emission_track.py:454: FutureWarning: Setting an item of incompatible dtype is deprecated and will raise an error in a future version of pandas. Value '2.171260118484497' has dtype incompatible with float64, please explicitly cast to a compatible dtype first.\n",
            "    df.loc[row_index] = attributes_array\n",
            "\n",
            "tests/test_tracker.py::TestTracker::test_tracker_consumption\n",
            "  /content/Eco2AI/eco2ai/emission_track.py:454: FutureWarning: Setting an item of incompatible dtype is deprecated and will raise an error in a future version of pandas. Value '5.876144133986541e-06' has dtype incompatible with float64, please explicitly cast to a compatible dtype first.\n",
            "    df.loc[row_index] = attributes_array\n",
            "\n",
            "tests/test_tracker.py::TestTracker::test_tracker_consumption\n",
            "  /content/Eco2AI/eco2ai/emission_track.py:454: FutureWarning: Setting an item of incompatible dtype is deprecated and will raise an error in a future version of pandas. Value '2.3158882976543735e-06' has dtype incompatible with float64, please explicitly cast to a compatible dtype first.\n",
            "    df.loc[row_index] = attributes_array\n",
            "\n",
            "tests/test_tracker.py::TestTracker::test_tracker_id_generation\n",
            "  /content/Eco2AI/eco2ai/emission_track.py:454: FutureWarning: Setting an item of incompatible dtype is deprecated and will raise an error in a future version of pandas. Value '0.17613983154296875' has dtype incompatible with float64, please explicitly cast to a compatible dtype first.\n",
            "    df.loc[row_index] = attributes_array\n",
            "\n",
            "tests/test_tracker.py::TestTracker::test_tracker_id_generation\n",
            "  /content/Eco2AI/eco2ai/emission_track.py:454: FutureWarning: Setting an item of incompatible dtype is deprecated and will raise an error in a future version of pandas. Value '4.237766752306399e-07' has dtype incompatible with float64, please explicitly cast to a compatible dtype first.\n",
            "    df.loc[row_index] = attributes_array\n",
            "\n",
            "tests/test_tracker.py::TestTracker::test_tracker_id_generation\n",
            "  /content/Eco2AI/eco2ai/emission_track.py:454: FutureWarning: Setting an item of incompatible dtype is deprecated and will raise an error in a future version of pandas. Value '1.670175919118741e-07' has dtype incompatible with float64, please explicitly cast to a compatible dtype first.\n",
            "    df.loc[row_index] = attributes_array\n",
            "\n",
            "-- Docs: https://docs.pytest.org/en/stable/how-to/capture-warnings.html\n",
            "================================ tests coverage ================================\n",
            "_______________ coverage: platform linux, python 3.12.12-final-0 _______________\n",
            "\n",
            "Name                        Stmts   Miss  Cover   Missing\n",
            "---------------------------------------------------------\n",
            "eco2ai/MLTracker.py             0      0   100%\n",
            "eco2ai/__init__.py              6      0   100%\n",
            "eco2ai/emission_track.py      290    105    64%   141, 152-155, 158, 160, 196, 250, 254, 258, 262, 266, 301, 333, 351, 407-427, 445, 449, 467-492, 514-520, 545, 552, 558-559, 607, 618, 625, 643, 650-656, 684, 709-710, 712, 718, 740-776, 794-806\n",
            "eco2ai/tools/__init__.py        0      0   100%\n",
            "eco2ai/tools/tools_cpu.py     228    113    50%   91, 107-108, 154, 184-186, 222-260, 321-330, 353-357, 399-440, 459-476, 500-504, 508, 551-572\n",
            "eco2ai/tools/tools_gpu.py     125     45    64%   42, 63, 70, 88-90, 106-115, 131-140, 157, 181-190, 220-222, 247-249, 277-278, 305-306\n",
            "eco2ai/tools/tools_ram.py      31      4    87%   53-54, 79-80\n",
            "eco2ai/uploader.py             12      9    25%   18-32\n",
            "eco2ai/utils.py               209    114    45%   36-37, 59-75, 118, 124-126, 130, 132, 136, 138, 140-160, 203, 209, 244, 256, 258, 293-333, 361, 365, 367, 396-397, 402, 427-445, 464-468, 509-542\n",
            "---------------------------------------------------------\n",
            "TOTAL                         901    390    57%\n",
            "Coverage HTML written to dir htmlcov\n",
            "\u001b[33m================= \u001b[32m27 passed\u001b[0m, \u001b[33m\u001b[1m1 skipped\u001b[0m, \u001b[33m\u001b[1m15 warnings\u001b[0m\u001b[33m in 20.29s\u001b[0m\u001b[33m ==================\u001b[0m\n"
          ]
        }
      ]
    },
    {
      "cell_type": "code",
      "source": [
        "!pip install pytest-cov\n",
        "\n"
      ],
      "metadata": {
        "colab": {
          "base_uri": "https://localhost:8080/"
        },
        "collapsed": true,
        "id": "W7y421avgTcd",
        "outputId": "63e40aca-68c6-4a75-e8bf-d5657a919055"
      },
      "execution_count": 8,
      "outputs": [
        {
          "output_type": "stream",
          "name": "stdout",
          "text": [
            "Collecting pytest-cov\n",
            "  Downloading pytest_cov-7.0.0-py3-none-any.whl.metadata (31 kB)\n",
            "Collecting coverage>=7.10.6 (from coverage[toml]>=7.10.6->pytest-cov)\n",
            "  Downloading coverage-7.11.0-cp312-cp312-manylinux1_x86_64.manylinux_2_28_x86_64.manylinux_2_5_x86_64.whl.metadata (9.0 kB)\n",
            "Requirement already satisfied: pluggy>=1.2 in /usr/local/lib/python3.12/dist-packages (from pytest-cov) (1.6.0)\n",
            "Requirement already satisfied: pytest>=7 in /usr/local/lib/python3.12/dist-packages (from pytest-cov) (8.4.2)\n",
            "Requirement already satisfied: iniconfig>=1 in /usr/local/lib/python3.12/dist-packages (from pytest>=7->pytest-cov) (2.3.0)\n",
            "Requirement already satisfied: packaging>=20 in /usr/local/lib/python3.12/dist-packages (from pytest>=7->pytest-cov) (25.0)\n",
            "Requirement already satisfied: pygments>=2.7.2 in /usr/local/lib/python3.12/dist-packages (from pytest>=7->pytest-cov) (2.19.2)\n",
            "Downloading pytest_cov-7.0.0-py3-none-any.whl (22 kB)\n",
            "Downloading coverage-7.11.0-cp312-cp312-manylinux1_x86_64.manylinux_2_28_x86_64.manylinux_2_5_x86_64.whl (250 kB)\n",
            "\u001b[2K   \u001b[90m━━━━━━━━━━━━━━━━━━━━━━━━━━━━━━━━━━━━━━━━\u001b[0m \u001b[32m250.6/250.6 kB\u001b[0m \u001b[31m16.4 MB/s\u001b[0m eta \u001b[36m0:00:00\u001b[0m\n",
            "\u001b[?25hInstalling collected packages: coverage, pytest-cov\n",
            "Successfully installed coverage-7.11.0 pytest-cov-7.0.0\n"
          ]
        }
      ]
    },
    {
      "cell_type": "code",
      "source": [
        "! python examples/decorator_example.py"
      ],
      "metadata": {
        "colab": {
          "base_uri": "https://localhost:8080/"
        },
        "collapsed": true,
        "id": "0ME2WinihGgx",
        "outputId": "7b2ff985-6a3a-4967-b825-3782ad4c8f01"
      },
      "execution_count": 10,
      "outputs": [
        {
          "output_type": "stream",
          "name": "stdout",
          "text": [
            "=== Decorator Example ===\n",
            "\n",
            "Example 1: Heavy Computation\n",
            "/content/Eco2AI/eco2ai/emission_track.py:141: UserWarning: \n",
            "If you use a VPN, you may have problems with identifying your country by IP.\n",
            "It is recommended to disable VPN or\n",
            "manually set up the ISO-Alpha-2 code of your country during initialization of the Tracker() class.\n",
            "You can find the ISO-Alpha-2 code of your country here: https://www.iban.com/country-codes\n",
            "\n",
            "  warnings.warn(\n",
            "Running heavy computation...\n",
            "Computation complete!\n",
            "Exported JSON to test.json\n",
            "/content/Eco2AI/eco2ai/emission_track.py:454: FutureWarning: Setting an item of incompatible dtype is deprecated and will raise an error in a future version of pandas. Value 'N/A' has dtype incompatible with float64, please explicitly cast to a compatible dtype first.\n",
            "  df.loc[row_index] = attributes_array\n",
            "/content/Eco2AI/eco2ai/emission_track.py:454: FutureWarning: Setting an item of incompatible dtype is deprecated and will raise an error in a future version of pandas. Value '4.060669898986816' has dtype incompatible with float64, please explicitly cast to a compatible dtype first.\n",
            "  df.loc[row_index] = attributes_array\n",
            "/content/Eco2AI/eco2ai/emission_track.py:454: FutureWarning: Setting an item of incompatible dtype is deprecated and will raise an error in a future version of pandas. Value '1.0824801052472318e-05' has dtype incompatible with float64, please explicitly cast to a compatible dtype first.\n",
            "  df.loc[row_index] = attributes_array\n",
            "/content/Eco2AI/eco2ai/emission_track.py:454: FutureWarning: Setting an item of incompatible dtype is deprecated and will raise an error in a future version of pandas. Value '4.266238116397234e-06' has dtype incompatible with float64, please explicitly cast to a compatible dtype first.\n",
            "  df.loc[row_index] = attributes_array\n",
            "/content/Eco2AI/eco2ai/emission_track.py:454: FutureWarning: Setting an item of incompatible dtype is deprecated and will raise an error in a future version of pandas. Value '0' has dtype incompatible with int64, please explicitly cast to a compatible dtype first.\n",
            "  df.loc[row_index] = attributes_array\n",
            "Exported JSON to test.json\n",
            "Result: 333333283333335000000\n",
            "\n",
            "Example 2: Data Processing\n",
            "/content/Eco2AI/eco2ai/emission_track.py:141: UserWarning: \n",
            "If you use a VPN, you may have problems with identifying your country by IP.\n",
            "It is recommended to disable VPN or\n",
            "manually set up the ISO-Alpha-2 code of your country during initialization of the Tracker() class.\n",
            "You can find the ISO-Alpha-2 code of your country here: https://www.iban.com/country-codes\n",
            "\n",
            "  warnings.warn(\n",
            "Processing data...\n",
            "Data processing complete!\n",
            "Exported JSON to test.json\n",
            "/content/Eco2AI/eco2ai/emission_track.py:454: FutureWarning: Setting an item of incompatible dtype is deprecated and will raise an error in a future version of pandas. Value 'N/A' has dtype incompatible with float64, please explicitly cast to a compatible dtype first.\n",
            "  df.loc[row_index] = attributes_array\n",
            "/content/Eco2AI/eco2ai/emission_track.py:454: FutureWarning: Setting an item of incompatible dtype is deprecated and will raise an error in a future version of pandas. Value '2.303109884262085' has dtype incompatible with float64, please explicitly cast to a compatible dtype first.\n",
            "  df.loc[row_index] = attributes_array\n",
            "/content/Eco2AI/eco2ai/emission_track.py:454: FutureWarning: Setting an item of incompatible dtype is deprecated and will raise an error in a future version of pandas. Value '6.096177395403135e-06' has dtype incompatible with float64, please explicitly cast to a compatible dtype first.\n",
            "  df.loc[row_index] = attributes_array\n",
            "/content/Eco2AI/eco2ai/emission_track.py:454: FutureWarning: Setting an item of incompatible dtype is deprecated and will raise an error in a future version of pandas. Value '2.4026071465440975e-06' has dtype incompatible with float64, please explicitly cast to a compatible dtype first.\n",
            "  df.loc[row_index] = attributes_array\n",
            "/content/Eco2AI/eco2ai/emission_track.py:454: FutureWarning: Setting an item of incompatible dtype is deprecated and will raise an error in a future version of pandas. Value '0' has dtype incompatible with int64, please explicitly cast to a compatible dtype first.\n",
            "  df.loc[row_index] = attributes_array\n",
            "Exported JSON to test.json\n",
            "Processed 500000 items\n",
            "\n",
            "=== All Results Saved ===\n",
            "Check 'emission.csv' for detailed emissions data\n"
          ]
        }
      ]
    },
    {
      "cell_type": "code",
      "source": [
        "!python examples/training_tracking.py"
      ],
      "metadata": {
        "colab": {
          "base_uri": "https://localhost:8080/"
        },
        "collapsed": true,
        "id": "WypmcyngiLVp",
        "outputId": "1bd95036-296b-4cae-f7e3-fcd937478650"
      },
      "execution_count": 11,
      "outputs": [
        {
          "output_type": "stream",
          "name": "stdout",
          "text": [
            "=== ML Training Tracking Example ===\n",
            "\n",
            "/content/Eco2AI/eco2ai/emission_track.py:141: UserWarning: \n",
            "If you use a VPN, you may have problems with identifying your country by IP.\n",
            "It is recommended to disable VPN or\n",
            "manually set up the ISO-Alpha-2 code of your country during initialization of the Tracker() class.\n",
            "You can find the ISO-Alpha-2 code of your country here: https://www.iban.com/country-codes\n",
            "\n",
            "  warnings.warn(\n",
            "Starting training for 5 epochs...\n",
            "\n",
            "Epoch 1/5\n",
            "  Loss: 0.5793\n",
            "  Accuracy: 0.6339\n",
            "Exported JSON to training_emission.json\n",
            "\n",
            "Epoch 2/5\n",
            "  Loss: 0.3454\n",
            "  Accuracy: 0.7148\n",
            "Exported JSON to training_emission.json\n",
            "\n",
            "Epoch 3/5\n",
            "  Loss: 0.3082\n",
            "  Accuracy: 0.8167\n",
            "Exported JSON to training_emission.json\n",
            "\n",
            "Epoch 4/5\n",
            "  Loss: 0.2291\n",
            "  Accuracy: 0.9059\n",
            "Exported JSON to training_emission.json\n",
            "\n",
            "Epoch 5/5\n",
            "  Loss: 0.2512\n",
            "  Accuracy: 0.9500\n",
            "Exported JSON to training_emission.json\n",
            "\n",
            "=== Training Complete ===\n",
            "Results saved to: training_emission.csv\n"
          ]
        }
      ]
    },
    {
      "cell_type": "code",
      "source": [
        "!python examples/jsonbin_example.py"
      ],
      "metadata": {
        "id": "avbfpmQlinVN"
      },
      "execution_count": null,
      "outputs": []
    },
    {
      "cell_type": "code",
      "source": [
        "##change the jsonbin permission: private to public\n",
        "\n",
        "\n",
        "import requests\n",
        "\n",
        "BIN_ID = \"you_bin_id\"\n",
        "API_KEY = \"your_api_key\"\n",
        "\n",
        "url = f\"https://api.jsonbin.io/v3/b/{BIN_ID}/meta/privacy\"\n",
        "headers = {\n",
        "    \"X-Master-Key\": API_KEY,\n",
        "    \"X-Bin-Private\": \"false\",\n",
        "}\n",
        "\n",
        "\n",
        "res = requests.put(url, headers=headers)\n",
        "print(res.status_code, res.json())\n"
      ],
      "metadata": {
        "colab": {
          "base_uri": "https://localhost:8080/"
        },
        "id": "VqWt_zFGi46a",
        "outputId": "3f325ab4-69b6-4000-825d-b589cb66353c"
      },
      "execution_count": 11,
      "outputs": [
        {
          "output_type": "stream",
          "name": "stdout",
          "text": [
            "200 {'record': '68fbcae2d0ea881f40b8f3df', 'metadata': {'private': False}}\n"
          ]
        }
      ]
    },
    {
      "cell_type": "code",
      "source": [],
      "metadata": {
        "id": "xQ_VzrlhjAbX"
      },
      "execution_count": null,
      "outputs": []
    }
  ]
}